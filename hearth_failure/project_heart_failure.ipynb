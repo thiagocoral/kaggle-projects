{
 "cells": [
  {
   "cell_type": "markdown",
   "id": "numerous-corrections",
   "metadata": {},
   "source": [
    "https://www.kaggle.com/andrewmvd/heart-failure-clinical-data\n",
    "https://www.kaggle.com/isaienkov/data-visualization-modeling-82-acc-75-f1"
   ]
  },
  {
   "cell_type": "code",
   "execution_count": 1,
   "id": "alpha-integration",
   "metadata": {},
   "outputs": [],
   "source": [
    "import pandas as pd\n",
    "import seaborn as sns\n",
    "import numpy as np\n",
    "df_original = pd.read_csv(\"heart_failure_clinical_records_dataset.csv\")"
   ]
  },
  {
   "cell_type": "code",
   "execution_count": 2,
   "id": "indian-flavor",
   "metadata": {},
   "outputs": [
    {
     "data": {
      "text/html": [
       "<div>\n",
       "<style scoped>\n",
       "    .dataframe tbody tr th:only-of-type {\n",
       "        vertical-align: middle;\n",
       "    }\n",
       "\n",
       "    .dataframe tbody tr th {\n",
       "        vertical-align: top;\n",
       "    }\n",
       "\n",
       "    .dataframe thead th {\n",
       "        text-align: right;\n",
       "    }\n",
       "</style>\n",
       "<table border=\"1\" class=\"dataframe\">\n",
       "  <thead>\n",
       "    <tr style=\"text-align: right;\">\n",
       "      <th></th>\n",
       "      <th>age</th>\n",
       "      <th>anaemia</th>\n",
       "      <th>creatinine_phosphokinase</th>\n",
       "      <th>diabetes</th>\n",
       "      <th>ejection_fraction</th>\n",
       "      <th>high_blood_pressure</th>\n",
       "      <th>platelets</th>\n",
       "      <th>serum_creatinine</th>\n",
       "      <th>serum_sodium</th>\n",
       "      <th>sex</th>\n",
       "      <th>smoking</th>\n",
       "      <th>time</th>\n",
       "      <th>DEATH_EVENT</th>\n",
       "    </tr>\n",
       "  </thead>\n",
       "  <tbody>\n",
       "    <tr>\n",
       "      <th>0</th>\n",
       "      <td>75.0</td>\n",
       "      <td>0</td>\n",
       "      <td>582</td>\n",
       "      <td>0</td>\n",
       "      <td>20</td>\n",
       "      <td>1</td>\n",
       "      <td>265000.00</td>\n",
       "      <td>1.9</td>\n",
       "      <td>130</td>\n",
       "      <td>1</td>\n",
       "      <td>0</td>\n",
       "      <td>4</td>\n",
       "      <td>1</td>\n",
       "    </tr>\n",
       "    <tr>\n",
       "      <th>1</th>\n",
       "      <td>55.0</td>\n",
       "      <td>0</td>\n",
       "      <td>7861</td>\n",
       "      <td>0</td>\n",
       "      <td>38</td>\n",
       "      <td>0</td>\n",
       "      <td>263358.03</td>\n",
       "      <td>1.1</td>\n",
       "      <td>136</td>\n",
       "      <td>1</td>\n",
       "      <td>0</td>\n",
       "      <td>6</td>\n",
       "      <td>1</td>\n",
       "    </tr>\n",
       "    <tr>\n",
       "      <th>2</th>\n",
       "      <td>65.0</td>\n",
       "      <td>0</td>\n",
       "      <td>146</td>\n",
       "      <td>0</td>\n",
       "      <td>20</td>\n",
       "      <td>0</td>\n",
       "      <td>162000.00</td>\n",
       "      <td>1.3</td>\n",
       "      <td>129</td>\n",
       "      <td>1</td>\n",
       "      <td>1</td>\n",
       "      <td>7</td>\n",
       "      <td>1</td>\n",
       "    </tr>\n",
       "    <tr>\n",
       "      <th>3</th>\n",
       "      <td>50.0</td>\n",
       "      <td>1</td>\n",
       "      <td>111</td>\n",
       "      <td>0</td>\n",
       "      <td>20</td>\n",
       "      <td>0</td>\n",
       "      <td>210000.00</td>\n",
       "      <td>1.9</td>\n",
       "      <td>137</td>\n",
       "      <td>1</td>\n",
       "      <td>0</td>\n",
       "      <td>7</td>\n",
       "      <td>1</td>\n",
       "    </tr>\n",
       "    <tr>\n",
       "      <th>4</th>\n",
       "      <td>65.0</td>\n",
       "      <td>1</td>\n",
       "      <td>160</td>\n",
       "      <td>1</td>\n",
       "      <td>20</td>\n",
       "      <td>0</td>\n",
       "      <td>327000.00</td>\n",
       "      <td>2.7</td>\n",
       "      <td>116</td>\n",
       "      <td>0</td>\n",
       "      <td>0</td>\n",
       "      <td>8</td>\n",
       "      <td>1</td>\n",
       "    </tr>\n",
       "  </tbody>\n",
       "</table>\n",
       "</div>"
      ],
      "text/plain": [
       "    age  anaemia  creatinine_phosphokinase  diabetes  ejection_fraction  \\\n",
       "0  75.0        0                       582         0                 20   \n",
       "1  55.0        0                      7861         0                 38   \n",
       "2  65.0        0                       146         0                 20   \n",
       "3  50.0        1                       111         0                 20   \n",
       "4  65.0        1                       160         1                 20   \n",
       "\n",
       "   high_blood_pressure  platelets  serum_creatinine  serum_sodium  sex  \\\n",
       "0                    1  265000.00               1.9           130    1   \n",
       "1                    0  263358.03               1.1           136    1   \n",
       "2                    0  162000.00               1.3           129    1   \n",
       "3                    0  210000.00               1.9           137    1   \n",
       "4                    0  327000.00               2.7           116    0   \n",
       "\n",
       "   smoking  time  DEATH_EVENT  \n",
       "0        0     4            1  \n",
       "1        0     6            1  \n",
       "2        1     7            1  \n",
       "3        0     7            1  \n",
       "4        0     8            1  "
      ]
     },
     "execution_count": 2,
     "metadata": {},
     "output_type": "execute_result"
    }
   ],
   "source": [
    "df = df_original\n",
    "df.head()"
   ]
  },
  {
   "cell_type": "code",
   "execution_count": 3,
   "id": "qualified-riverside",
   "metadata": {},
   "outputs": [
    {
     "name": "stdout",
     "output_type": "stream",
     "text": [
      "<class 'pandas.core.frame.DataFrame'>\n",
      "RangeIndex: 299 entries, 0 to 298\n",
      "Data columns (total 13 columns):\n",
      " #   Column                    Non-Null Count  Dtype  \n",
      "---  ------                    --------------  -----  \n",
      " 0   age                       299 non-null    float64\n",
      " 1   anaemia                   299 non-null    int64  \n",
      " 2   creatinine_phosphokinase  299 non-null    int64  \n",
      " 3   diabetes                  299 non-null    int64  \n",
      " 4   ejection_fraction         299 non-null    int64  \n",
      " 5   high_blood_pressure       299 non-null    int64  \n",
      " 6   platelets                 299 non-null    float64\n",
      " 7   serum_creatinine          299 non-null    float64\n",
      " 8   serum_sodium              299 non-null    int64  \n",
      " 9   sex                       299 non-null    int64  \n",
      " 10  smoking                   299 non-null    int64  \n",
      " 11  time                      299 non-null    int64  \n",
      " 12  DEATH_EVENT               299 non-null    int64  \n",
      "dtypes: float64(3), int64(10)\n",
      "memory usage: 30.5 KB\n"
     ]
    }
   ],
   "source": [
    "df.info()"
   ]
  },
  {
   "cell_type": "code",
   "execution_count": 4,
   "id": "southeast-validation",
   "metadata": {},
   "outputs": [
    {
     "data": {
      "text/plain": [
       "(299, 13)"
      ]
     },
     "execution_count": 4,
     "metadata": {},
     "output_type": "execute_result"
    }
   ],
   "source": [
    "df.shape"
   ]
  },
  {
   "cell_type": "code",
   "execution_count": 5,
   "id": "ideal-british",
   "metadata": {},
   "outputs": [
    {
     "data": {
      "text/plain": [
       "<AxesSubplot:>"
      ]
     },
     "execution_count": 5,
     "metadata": {},
     "output_type": "execute_result"
    },
    {
     "data": {
      "image/png": "[encoded data removed]",
      "text/plain": [
       "<Figure size 432x288 with 2 Axes>"
      ]
     },
     "metadata": {
      "needs_background": "light"
     },
     "output_type": "display_data"
    }
   ],
   "source": [
    "sns.heatmap(df.corr(),cmap='coolwarm')"
   ]
  },
  {
   "cell_type": "markdown",
   "id": "discrete-tracy",
   "metadata": {},
   "source": [
    "#### Não normalizado"
   ]
  },
  {
   "cell_type": "code",
   "execution_count": 6,
   "id": "changed-freight",
   "metadata": {},
   "outputs": [
    {
     "name": "stdout",
     "output_type": "stream",
     "text": [
      "Acurácia do kmeans 0.6220735785953178\n",
      "F1 score do kmeans 0.2981366459627329\n"
     ]
    }
   ],
   "source": [
    "from sklearn.cluster import KMeans\n",
    "from sklearn.metrics import accuracy_score\n",
    "from sklearn.metrics import f1_score\n",
    "kmeans = KMeans(n_clusters=2,random_state=5)\n",
    "kmeans.fit(df)\n",
    "print(\"Acurácia do kmeans\",accuracy_score(df[\"DEATH_EVENT\"],kmeans.labels_))\n",
    "print(\"F1 score do kmeans\",f1_score(df[\"DEATH_EVENT\"],kmeans.labels_))"
   ]
  },
  {
   "attachments": {
    "image-2.png": {
     "image/png": "[encoded data removed]"
    },
    "image.png": {
     "image/png": "[encoded data removed]"
    }
   },
   "cell_type": "markdown",
   "id": "convinced-improvement",
   "metadata": {},
   "source": [
    "![image.png](attachment:image.png)\n",
    "![image-2.png](attachment:image-2.png)"
   ]
  },
  {
   "cell_type": "code",
   "execution_count": 7,
   "id": "terminal-poison",
   "metadata": {},
   "outputs": [
    {
     "name": "stdout",
     "output_type": "stream",
     "text": [
      "              precision    recall  f1-score   support\n",
      "\n",
      "           0       0.69      0.80      0.74       203\n",
      "           1       0.37      0.25      0.30        96\n",
      "\n",
      "    accuracy                           0.62       299\n",
      "   macro avg       0.53      0.52      0.52       299\n",
      "weighted avg       0.59      0.62      0.60       299\n",
      "\n",
      "------------------------------------------------\n",
      "[[162  41]\n",
      " [ 72  24]]\n"
     ]
    }
   ],
   "source": [
    "from sklearn.metrics import classification_report\n",
    "from sklearn.metrics import confusion_matrix\n",
    "print(classification_report(df[\"DEATH_EVENT\"], kmeans.labels_))\n",
    "print(\"------------------------------------------------\")\n",
    "conf_mat = confusion_matrix(df[\"DEATH_EVENT\"],kmeans.labels_)\n",
    "print(conf_mat)"
   ]
  },
  {
   "cell_type": "code",
   "execution_count": 8,
   "id": "demonstrated-worship",
   "metadata": {},
   "outputs": [
    {
     "data": {
      "text/plain": [
       "65"
      ]
     },
     "execution_count": 8,
     "metadata": {},
     "output_type": "execute_result"
    }
   ],
   "source": [
    "sum(kmeans.labels_)"
   ]
  },
  {
   "cell_type": "markdown",
   "id": "other-music",
   "metadata": {},
   "source": [
    "##### Como podemos observar, o algoritmo teve uma enorme quantidade de falsos positivos e negativos. Isso é comprovado por conta do F1_score"
   ]
  },
  {
   "cell_type": "markdown",
   "id": "fewer-caution",
   "metadata": {},
   "source": [
    "### Agora, vamos tentar normalizar os dados para ver quais serão os resultados"
   ]
  },
  {
   "cell_type": "code",
   "execution_count": 9,
   "id": "sealed-philosophy",
   "metadata": {},
   "outputs": [],
   "source": [
    "from sklearn.preprocessing import StandardScaler\n",
    "scaler = StandardScaler()\n",
    "scaler.fit(df.drop(\"DEATH_EVENT\",axis=1))\n",
    "df[df.columns.drop(\"DEATH_EVENT\")] = scaler.transform(df.drop(\"DEATH_EVENT\",axis=1))"
   ]
  },
  {
   "cell_type": "code",
   "execution_count": 10,
   "id": "likely-globe",
   "metadata": {},
   "outputs": [
    {
     "data": {
      "text/plain": [
       "KMeans(n_clusters=2, random_state=5)"
      ]
     },
     "execution_count": 10,
     "metadata": {},
     "output_type": "execute_result"
    }
   ],
   "source": [
    "from sklearn.cluster import KMeans\n",
    "from sklearn.metrics import accuracy_score\n",
    "from sklearn.metrics import f1_score\n",
    "kmeans = KMeans(n_clusters=2,random_state=5)\n",
    "kmeans.fit(df)"
   ]
  },
  {
   "cell_type": "code",
   "execution_count": 11,
   "id": "fabulous-hormone",
   "metadata": {},
   "outputs": [
    {
     "data": {
      "text/plain": [
       "array([1, 1, 1, 1, 0, 1, 1, 1, 0, 1, 1, 1, 1, 1, 0, 1, 1, 1, 0, 0, 0, 0,\n",
       "       1, 1, 0, 1, 0, 1, 1, 1, 1, 1, 0, 0, 1, 1, 1, 0, 1, 0, 1, 0, 1, 1,\n",
       "       0, 1, 1, 1, 1, 0, 1, 0, 0, 0, 0, 1, 1, 1, 1, 1, 1, 0, 1, 1, 0, 1,\n",
       "       0, 1, 0, 1, 1, 1, 1, 1, 1, 1, 0, 1, 1, 0, 0, 1, 0, 1, 0, 1, 1, 0,\n",
       "       1, 1, 1, 1, 0, 1, 0, 1, 1, 0, 0, 0, 1, 1, 1, 1, 0, 0, 1, 1, 1, 1,\n",
       "       1, 1, 1, 0, 1, 0, 0, 0, 0, 0, 1, 0, 0, 0, 1, 0, 0, 0, 1, 1, 1, 1,\n",
       "       0, 1, 1, 1, 0, 1, 0, 1, 1, 0, 0, 0, 1, 1, 1, 1, 1, 1, 0, 1, 1, 1,\n",
       "       0, 1, 0, 1, 1, 1, 1, 1, 1, 0, 1, 0, 1, 1, 0, 0, 1, 1, 1, 1, 1, 1,\n",
       "       1, 0, 1, 1, 1, 1, 1, 1, 1, 1, 0, 0, 0, 0, 1, 0, 1, 1, 1, 1, 0, 0,\n",
       "       0, 1, 1, 0, 1, 1, 1, 0, 0, 1, 0, 0, 1, 1, 1, 0, 1, 1, 0, 0, 1, 0,\n",
       "       1, 1, 1, 1, 1, 0, 1, 1, 0, 0, 0, 1, 1, 1, 1, 1, 1, 1, 0, 1, 0, 1,\n",
       "       1, 0, 1, 1, 1, 1, 1, 0, 0, 0, 1, 0, 1, 1, 0, 1, 1, 1, 1, 0, 1, 0,\n",
       "       1, 1, 1, 1, 0, 1, 1, 0, 0, 1, 1, 0, 0, 1, 0, 0, 1, 1, 1, 1, 1, 1,\n",
       "       1, 0, 0, 0, 0, 1, 1, 1, 1, 0, 0, 1, 1])"
      ]
     },
     "execution_count": 11,
     "metadata": {},
     "output_type": "execute_result"
    }
   ],
   "source": [
    "kmeans.labels_"
   ]
  },
  {
   "cell_type": "code",
   "execution_count": 12,
   "id": "compact-manor",
   "metadata": {},
   "outputs": [
    {
     "name": "stdout",
     "output_type": "stream",
     "text": [
      "Acurácia do kmeans 0.451505016722408\n",
      "F1 score do kmeans 0.4305555555555556\n",
      "----------------------\n",
      "              precision    recall  f1-score   support\n",
      "\n",
      "           0       0.68      0.36      0.47       203\n",
      "           1       0.32      0.65      0.43        96\n",
      "\n",
      "    accuracy                           0.45       299\n",
      "   macro avg       0.50      0.50      0.45       299\n",
      "weighted avg       0.57      0.45      0.46       299\n",
      "\n",
      "----------------------\n",
      "[[ 73 130]\n",
      " [ 34  62]]\n"
     ]
    }
   ],
   "source": [
    "print(\"Acurácia do kmeans\",accuracy_score(df[\"DEATH_EVENT\"],kmeans.labels_))\n",
    "print(\"F1 score do kmeans\",f1_score(df[\"DEATH_EVENT\"],kmeans.labels_))\n",
    "print(\"----------------------\")\n",
    "print(classification_report(df[\"DEATH_EVENT\"],kmeans.labels_))\n",
    "print(\"----------------------\")\n",
    "print(confusion_matrix(df[\"DEATH_EVENT\"],kmeans.labels_))"
   ]
  },
  {
   "cell_type": "markdown",
   "id": "efficient-burton",
   "metadata": {},
   "source": [
    "Normalizando os dados, obtivemos um f1_score maior, mas uma péssima precisão, pois agora o algoritmo generalizou com maior peso para DEATH_EVENTS, com tendência a classificar como DEATH_EVENT a maior parte dos casos."
   ]
  },
  {
   "cell_type": "code",
   "execution_count": 13,
   "id": "canadian-champion",
   "metadata": {},
   "outputs": [
    {
     "data": {
      "text/html": [
       "<div>\n",
       "<style scoped>\n",
       "    .dataframe tbody tr th:only-of-type {\n",
       "        vertical-align: middle;\n",
       "    }\n",
       "\n",
       "    .dataframe tbody tr th {\n",
       "        vertical-align: top;\n",
       "    }\n",
       "\n",
       "    .dataframe thead th {\n",
       "        text-align: right;\n",
       "    }\n",
       "</style>\n",
       "<table border=\"1\" class=\"dataframe\">\n",
       "  <thead>\n",
       "    <tr style=\"text-align: right;\">\n",
       "      <th></th>\n",
       "      <th>age</th>\n",
       "      <th>anaemia</th>\n",
       "      <th>creatinine_phosphokinase</th>\n",
       "      <th>diabetes</th>\n",
       "      <th>ejection_fraction</th>\n",
       "      <th>high_blood_pressure</th>\n",
       "      <th>platelets</th>\n",
       "      <th>serum_creatinine</th>\n",
       "      <th>serum_sodium</th>\n",
       "      <th>sex</th>\n",
       "      <th>smoking</th>\n",
       "      <th>time</th>\n",
       "    </tr>\n",
       "    <tr>\n",
       "      <th>DEATH_EVENT</th>\n",
       "      <th></th>\n",
       "      <th></th>\n",
       "      <th></th>\n",
       "      <th></th>\n",
       "      <th></th>\n",
       "      <th></th>\n",
       "      <th></th>\n",
       "      <th></th>\n",
       "      <th></th>\n",
       "      <th></th>\n",
       "      <th></th>\n",
       "      <th></th>\n",
       "    </tr>\n",
       "  </thead>\n",
       "  <tbody>\n",
       "    <tr>\n",
       "      <th>0</th>\n",
       "      <td>203</td>\n",
       "      <td>203</td>\n",
       "      <td>203</td>\n",
       "      <td>203</td>\n",
       "      <td>203</td>\n",
       "      <td>203</td>\n",
       "      <td>203</td>\n",
       "      <td>203</td>\n",
       "      <td>203</td>\n",
       "      <td>203</td>\n",
       "      <td>203</td>\n",
       "      <td>203</td>\n",
       "    </tr>\n",
       "    <tr>\n",
       "      <th>1</th>\n",
       "      <td>96</td>\n",
       "      <td>96</td>\n",
       "      <td>96</td>\n",
       "      <td>96</td>\n",
       "      <td>96</td>\n",
       "      <td>96</td>\n",
       "      <td>96</td>\n",
       "      <td>96</td>\n",
       "      <td>96</td>\n",
       "      <td>96</td>\n",
       "      <td>96</td>\n",
       "      <td>96</td>\n",
       "    </tr>\n",
       "  </tbody>\n",
       "</table>\n",
       "</div>"
      ],
      "text/plain": [
       "             age  anaemia  creatinine_phosphokinase  diabetes  \\\n",
       "DEATH_EVENT                                                     \n",
       "0            203      203                       203       203   \n",
       "1             96       96                        96        96   \n",
       "\n",
       "             ejection_fraction  high_blood_pressure  platelets  \\\n",
       "DEATH_EVENT                                                      \n",
       "0                          203                  203        203   \n",
       "1                           96                   96         96   \n",
       "\n",
       "             serum_creatinine  serum_sodium  sex  smoking  time  \n",
       "DEATH_EVENT                                                      \n",
       "0                         203           203  203      203   203  \n",
       "1                          96            96   96       96    96  "
      ]
     },
     "execution_count": 13,
     "metadata": {},
     "output_type": "execute_result"
    }
   ],
   "source": [
    "df.groupby(df[\"DEATH_EVENT\"]).count()"
   ]
  },
  {
   "cell_type": "code",
   "execution_count": 14,
   "id": "military-northwest",
   "metadata": {},
   "outputs": [
    {
     "data": {
      "text/plain": [
       "0.6789297658862876"
      ]
     },
     "execution_count": 14,
     "metadata": {},
     "output_type": "execute_result"
    }
   ],
   "source": [
    "203/299"
   ]
  },
  {
   "cell_type": "markdown",
   "id": "motivated-affairs",
   "metadata": {},
   "source": [
    "#### MLP - Não Normalizado"
   ]
  },
  {
   "cell_type": "code",
   "execution_count": 15,
   "id": "involved-accountability",
   "metadata": {},
   "outputs": [],
   "source": [
    "from sklearn.model_selection import train_test_split\n",
    "df = df_original\n",
    "x_train,x_test,y_train,y_test = train_test_split(df.drop(\"DEATH_EVENT\",axis=1),df[\"DEATH_EVENT\"],test_size=0.3)"
   ]
  },
  {
   "cell_type": "code",
   "execution_count": 16,
   "id": "cathedral-cream",
   "metadata": {},
   "outputs": [
    {
     "data": {
      "text/plain": [
       "MLPClassifier(alpha=1e-05, hidden_layer_sizes=(5, 5), random_state=1,\n",
       "              solver='lbfgs')"
      ]
     },
     "execution_count": 16,
     "metadata": {},
     "output_type": "execute_result"
    }
   ],
   "source": [
    "from sklearn.neural_network import MLPClassifier\n",
    "mlp_cls = MLPClassifier(solver=\"lbfgs\",alpha=1e-5,hidden_layer_sizes=(5,5),random_state=1)\n",
    "mlp_cls.fit(x_train,y_train)"
   ]
  },
  {
   "cell_type": "code",
   "execution_count": 17,
   "id": "minor-nickel",
   "metadata": {},
   "outputs": [
    {
     "name": "stdout",
     "output_type": "stream",
     "text": [
      "Acurácia do MLP: 0.7666666666666667\n",
      "F1 score do MLP: 0.6181818181818182\n",
      "-------------------------\n",
      "              precision    recall  f1-score   support\n",
      "\n",
      "           0       0.83      0.84      0.83        62\n",
      "           1       0.63      0.61      0.62        28\n",
      "\n",
      "    accuracy                           0.77        90\n",
      "   macro avg       0.73      0.72      0.73        90\n",
      "weighted avg       0.76      0.77      0.77        90\n",
      "\n",
      "-------------------------\n",
      "[[52 10]\n",
      " [11 17]]\n"
     ]
    }
   ],
   "source": [
    "predictions_mlp = mlp_cls.predict(x_test)\n",
    "print(\"Acurácia do MLP:\",accuracy_score(y_test,predictions_mlp))\n",
    "print(\"F1 score do MLP:\",f1_score(y_test,predictions_mlp))\n",
    "print(\"-------------------------\")\n",
    "print(classification_report(y_test,predictions_mlp))\n",
    "print(\"-------------------------\")\n",
    "print(confusion_matrix(y_test,predictions_mlp))"
   ]
  },
  {
   "cell_type": "markdown",
   "id": "inside-slovenia",
   "metadata": {},
   "source": [
    "#### Segundo a documentação do Multi-layer Perceptron, ele é um algoritmo que é muito sensível ao escalonamento de features, sendo altamente recomendado que os dados sejam normalizados com média 0 e variância 1 por exemplo"
   ]
  },
  {
   "cell_type": "code",
   "execution_count": 18,
   "id": "unlimited-scholar",
   "metadata": {},
   "outputs": [],
   "source": [
    "df = df_original.copy()\n",
    "scaler = StandardScaler()\n",
    "scaler.fit(df.drop(\"DEATH_EVENT\",axis=1))\n",
    "df_norm = scaler.transform(df.drop(\"DEATH_EVENT\",axis=1))"
   ]
  },
  {
   "cell_type": "code",
   "execution_count": 19,
   "id": "thousand-petite",
   "metadata": {},
   "outputs": [],
   "source": [
    "x_train,x_test,y_train,y_test = train_test_split(df.drop(\"DEATH_EVENT\",axis=1),df[\"DEATH_EVENT\"],test_size=0.2)"
   ]
  },
  {
   "cell_type": "code",
   "execution_count": 20,
   "id": "periodic-floor",
   "metadata": {},
   "outputs": [
    {
     "data": {
      "text/plain": [
       "MLPClassifier(alpha=1e-05, hidden_layer_sizes=(2, 2), random_state=1,\n",
       "              solver='lbfgs')"
      ]
     },
     "execution_count": 20,
     "metadata": {},
     "output_type": "execute_result"
    }
   ],
   "source": [
    "mlp_cls = MLPClassifier(solver=\"lbfgs\",alpha=1e-5,hidden_layer_sizes=(2,2),random_state=1)\n",
    "mlp_cls.fit(x_train,y_train)"
   ]
  },
  {
   "cell_type": "code",
   "execution_count": 21,
   "id": "bearing-jewelry",
   "metadata": {},
   "outputs": [
    {
     "name": "stdout",
     "output_type": "stream",
     "text": [
      "Acurácia do MLP: 0.8786610878661087\n",
      "F1 score do MLP: 0.7751937984496124\n",
      "-------------------------\n",
      "              precision    recall  f1-score   support\n",
      "\n",
      "           0       0.86      0.98      0.92       163\n",
      "           1       0.94      0.66      0.78        76\n",
      "\n",
      "    accuracy                           0.88       239\n",
      "   macro avg       0.90      0.82      0.85       239\n",
      "weighted avg       0.89      0.88      0.87       239\n",
      "\n",
      "-------------------------\n",
      "[[160   3]\n",
      " [ 26  50]]\n"
     ]
    }
   ],
   "source": [
    "predictions_mlp_train = mlp_cls.predict(x_train)\n",
    "print(\"Acurácia do MLP:\",accuracy_score(y_train,predictions_mlp_train))\n",
    "print(\"F1 score do MLP:\",f1_score(y_train,predictions_mlp_train))\n",
    "print(\"-------------------------\")\n",
    "print(classification_report(y_train,predictions_mlp_train))\n",
    "print(\"-------------------------\")\n",
    "print(confusion_matrix(y_train,predictions_mlp_train))"
   ]
  },
  {
   "cell_type": "code",
   "execution_count": 22,
   "id": "northern-carry",
   "metadata": {},
   "outputs": [],
   "source": [
    "predictions = mlp_cls.predict(x_test)"
   ]
  },
  {
   "cell_type": "code",
   "execution_count": 23,
   "id": "facial-musical",
   "metadata": {},
   "outputs": [
    {
     "name": "stdout",
     "output_type": "stream",
     "text": [
      "Acurácia do MLP: 0.7833333333333333\n",
      "F1 score do MLP: 0.6486486486486486\n",
      "-------------------------\n",
      "              precision    recall  f1-score   support\n",
      "\n",
      "           0       0.81      0.88      0.84        40\n",
      "           1       0.71      0.60      0.65        20\n",
      "\n",
      "    accuracy                           0.78        60\n",
      "   macro avg       0.76      0.74      0.75        60\n",
      "weighted avg       0.78      0.78      0.78        60\n",
      "\n",
      "-------------------------\n",
      "[[35  5]\n",
      " [ 8 12]]\n"
     ]
    }
   ],
   "source": [
    "predictions_mlp = mlp_cls.predict(x_test)\n",
    "print(\"Acurácia do MLP:\",accuracy_score(y_test,predictions_mlp))\n",
    "print(\"F1 score do MLP:\",f1_score(y_test,predictions_mlp))\n",
    "print(\"-------------------------\")\n",
    "print(classification_report(y_test,predictions_mlp))\n",
    "print(\"-------------------------\")\n",
    "print(confusion_matrix(y_test,predictions_mlp))"
   ]
  },
  {
   "cell_type": "markdown",
   "id": "unlike-edgar",
   "metadata": {},
   "source": [
    "#### Um ponto negativo de utilizar Redes neurais nesse caso, é que temos uma pequena amostra de dados, tornando esse tipo de abordagem menos eficiente para generalizar casos nunca vistos anteriormente."
   ]
  }
 ],
 "metadata": {
  "kernelspec": {
   "display_name": "Python 3",
   "language": "python",
   "name": "python3"
  },
  "language_info": {
   "codemirror_mode": {
    "name": "ipython",
    "version": 3
   },
   "file_extension": ".py",
   "mimetype": "text/x-python",
   "name": "python",
   "nbconvert_exporter": "python",
   "pygments_lexer": "ipython3",
   "version": "3.6.12"
  }
 },
 "nbformat": 4,
 "nbformat_minor": 5
}
